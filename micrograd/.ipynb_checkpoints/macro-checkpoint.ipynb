{
 "cells": [
  {
   "cell_type": "code",
   "execution_count": 84,
   "id": "66024079-7a2d-45c2-8078-8bbdf6ea12a9",
   "metadata": {},
   "outputs": [],
   "source": [
    "import numpy as np\n",
    "import pandas as pd\n",
    "from matplotlib import pyplot as plt\n",
    "import math"
   ]
  },
  {
   "cell_type": "code",
   "execution_count": 12,
   "id": "31d0ccea-b083-4a83-9f8d-913b4305f3f1",
   "metadata": {},
   "outputs": [],
   "source": [
    "def f(x):\n",
    "    return 3*x**3 -4*x +5"
   ]
  },
  {
   "cell_type": "code",
   "execution_count": 13,
   "id": "5f61de02-e3a3-457e-9333-15d329fdbc2d",
   "metadata": {},
   "outputs": [
    {
     "data": {
      "text/plain": [
       "74"
      ]
     },
     "execution_count": 13,
     "metadata": {},
     "output_type": "execute_result"
    }
   ],
   "source": [
    "f(3)"
   ]
  },
  {
   "cell_type": "code",
   "execution_count": 14,
   "id": "830f761b-78cd-43df-ac5d-2483dc55710f",
   "metadata": {},
   "outputs": [
    {
     "data": {
      "text/plain": [
       "[<matplotlib.lines.Line2D at 0x7cc52282eb40>]"
      ]
     },
     "execution_count": 14,
     "metadata": {},
     "output_type": "execute_result"
    },
    {
     "data": {
      "image/png": "[encoded data removed]",
      "text/plain": [
       "<Figure size 640x480 with 1 Axes>"
      ]
     },
     "metadata": {},
     "output_type": "display_data"
    }
   ],
   "source": [
    "xs=np.arange(-5,5,0.25)\n",
    "ys=f(xs)\n",
    "plt.plot(xs,ys)"
   ]
  },
  {
   "cell_type": "code",
   "execution_count": 627,
   "id": "d72c44d3-bce3-4875-ac17-ca40b9cb52bf",
   "metadata": {},
   "outputs": [],
   "source": [
    "class Value:\n",
    "    def __init__(self,data=0,children=(),op=''): \n",
    "        self.data=data\n",
    "        self.children=set(children) #just so that we can keep track of what values are being operated\n",
    "        self.op=op # keeps track of operation being performed\n",
    "        self.grad=0.0\n",
    "        self._backward= lambda : None\n",
    "        \n",
    "    def __repr__(self):\n",
    "        return f\"Value(data={self.data})\"\n",
    "        \n",
    "    def __add__(self,other): #this __add__ just means that whenever two objects are sent with addition in mind (instead of just one parameter) it wont just create the data obj but will add the values of the two objs sent and will create a new obj data\n",
    "        other= other if isinstance(other,Value) else Value(other) #if other is not an object we wrap it into an object\n",
    "        out=Value(self.data+other.data,(self,other),'+') \n",
    "        def _backward():\n",
    "            self.grad+=1*out.grad\n",
    "            other.grad+=1*out.grad\n",
    "        out._backward=_backward\n",
    "        return out\n",
    "\n",
    "    def __radd__(self,other):\n",
    "        return self+other\n",
    "\n",
    "    def __neg__(self):\n",
    "        return self*(-1)\n",
    "\n",
    "    def __sub__(self,other):\n",
    "        return self+(-other)\n",
    "\n",
    "    def __rsub__(self, other):\n",
    "        return Value(other - self.data)\n",
    "        \n",
    "    def __mul__(self,other):\n",
    "        other= other if isinstance(other,Value) else Value(other)\n",
    "        out=Value(self.data*other.data,(self,other),'*')\n",
    "        def _backward():\n",
    "            self.grad += other.data*out.grad\n",
    "            other.grad += self.data*out.grad\n",
    "        out._backward =_backward\n",
    "        return out\n",
    "\n",
    "    def __rmul__(self,other):\n",
    "        return self*other\n",
    "\n",
    "    def __truediv__(self,other):\n",
    "        return self*other**(-1)\n",
    "\n",
    "    def __rtruediv__(self, other):\n",
    "        return Value(other) * self**(-1)\n",
    "\n",
    "    def exp(self):\n",
    "        x=self.data\n",
    "        out=Value(math.exp(x),(self,),'exp')\n",
    "        def _backward():\n",
    "            self.grad+=out.data*out.grad\n",
    "        out._backward=_backward\n",
    "        return out\n",
    "        \n",
    "    def tanh(self):\n",
    "        x=self.data\n",
    "        t= (math.exp(x*2)-1)/(math.exp(x*2)+1)\n",
    "        out=Value(t,(self,),'tanh')\n",
    "        def _backward():\n",
    "            self.grad+=(1-t**2)*out.grad\n",
    "        out._backward=_backward\n",
    "        return out\n",
    "\n",
    "    def relu(self):\n",
    "        out = Value(0 if self.data < 0 else self.data, (self,), 'ReLU')\n",
    "        def _backward():\n",
    "            self.grad += (out.data > 0) * out.grad\n",
    "        out._backward = _backward\n",
    "        return out\n",
    "\n",
    "    \n",
    "\n",
    "    def log(self):\n",
    "        x = self.data\n",
    "        out = Value(math.log(x), (self,), 'log')\n",
    "        def _backward():\n",
    "            self.grad += (1 / x) * out.grad\n",
    "        out._backward = _backward\n",
    "        return out\n",
    "\n",
    "    def __pow__(self,other):\n",
    "        assert isinstance(other,(int,float))\n",
    "        out=Value(self.data**other,(self,),f'**{other}')\n",
    "        def _backward():\n",
    "            self.grad+=other*(self.data**(other-1))*out.grad\n",
    "        out._backward=_backward\n",
    "        return out\n",
    "\n",
    "    def backward(self):\n",
    "        topo = []\n",
    "        visited = set()\n",
    "\n",
    "        def build_topo(v):\n",
    "            if v not in visited:\n",
    "                visited.add(v)\n",
    "                for child in v.children:\n",
    "                    build_topo(child)\n",
    "                topo.append(v)\n",
    "\n",
    "        build_topo(self)\n",
    "\n",
    "        self.grad = 1.0  \n",
    "        for node in reversed(topo):\n",
    "            node._backward()\n",
    "            "
   ]
  },
  {
   "cell_type": "code",
   "execution_count": 615,
   "id": "6d4dffd4-2a1d-47b3-8fe2-4d15a619ced2",
   "metadata": {},
   "outputs": [],
   "source": [
    "import random\n",
    "class Neuron:\n",
    "    def __init__(self,nin):\n",
    "        self.w=[Value(random.uniform(-1,1)) for _ in range(nin)] # uses random weights from -1 to 1 for each input(nin)\n",
    "        self.b=Value(random.uniform(-1,1)) #random bias\n",
    "\n",
    "    def __call__(self,x):\n",
    "        act=sum((wi*xi for wi,xi in zip(self.w,x)),self.b)\n",
    "        out=act.tanh()\n",
    "        return out\n",
    "\n",
    "    def parameters(self):\n",
    "        return self.w+[self.b]\n",
    "\n",
    "class Layer:\n",
    "    def __init__(self,nin,nout):\n",
    "        self.neurons=[Neuron(nin) for i in range(nout)]\n",
    "    def __call__(self,x):\n",
    "        outs=[n(x) for n in self.neurons]\n",
    "        return outs[0] if len(outs)==1 else outs\n",
    "    def parameters(self):\n",
    "        params=[]\n",
    "        for neuron in self.neurons:\n",
    "            ps=neuron.parameters()\n",
    "            params.extend(ps)\n",
    "        return params\n",
    "\n",
    "class MLP:\n",
    "    def __init__(self,nin,nouts):\n",
    "        sz=[nin]+nouts\n",
    "        self.layers=[Layer(sz[i],sz[i+1]) for i in range(len(nouts))]\n",
    "\n",
    "    def __call__(self,x):\n",
    "        for layer in self.layers:\n",
    "            x=layer(x)\n",
    "        return x\n",
    "\n",
    "    def parameters(self):\n",
    "        return [p for layer in self.layers for p in layer.parameters()]"
   ]
  },
  {
   "cell_type": "code",
   "execution_count": 616,
   "id": "6410e2d9-705a-476c-ac5c-2fd35b742d86",
   "metadata": {},
   "outputs": [],
   "source": [
    "n=MLP(3,[4,4,1])"
   ]
  },
  {
   "cell_type": "code",
   "execution_count": 617,
   "id": "3bc8002c-b142-482d-8933-081254a5b33a",
   "metadata": {},
   "outputs": [],
   "source": [
    "xs=[[2.0,3.0,-1.0],\n",
    "   [3.0,-1.0,0.5],\n",
    "   [0.5,1.0,1.0],\n",
    "   [1.0,1.0,-1.0]]\n",
    "ys=[1.0,-1.0,-1.0,1]"
   ]
  },
  {
   "cell_type": "code",
   "execution_count": 618,
   "id": "09b90f01-a31e-4fbb-bfc0-3265a1cb6134",
   "metadata": {},
   "outputs": [
    {
     "name": "stdout",
     "output_type": "stream",
     "text": [
      "0 7.3947705767348895\n",
      "1 7.125434596520856\n",
      "2 6.5165315689439804\n",
      "3 4.563626393444218\n",
      "4 1.707142282788225\n",
      "5 0.8012484741772468\n",
      "6 0.4563615305912264\n",
      "7 0.2997148500530997\n",
      "8 0.2178755345180841\n",
      "9 0.1692649578203638\n",
      "10 0.13753854295684365\n",
      "11 0.11537829025821356\n",
      "12 0.09910342816323423\n",
      "13 0.0866843805373047\n",
      "14 0.07691847534285147\n",
      "15 0.06905106389186946\n",
      "16 0.06258617279288395\n",
      "17 0.057185162352592904\n",
      "18 0.052609320732444634\n",
      "19 0.048685761909330716\n",
      "20 0.045286332883415825\n",
      "21 0.04231410748042836\n",
      "22 0.039694474314201936\n",
      "23 0.037369099606480397\n",
      "24 0.035291741585808216\n",
      "25 0.033425288218124204\n",
      "26 0.031739621765387464\n",
      "27 0.0302100536843629\n",
      "28 0.02881616023449139\n",
      "29 0.02754090433984112\n",
      "30 0.02636996506317034\n",
      "31 0.025291219754578563\n",
      "32 0.024294339910038106\n",
      "33 0.023370472715955985\n",
      "34 0.022511987863960647\n",
      "35 0.021712274584779576\n",
      "36 0.02096557768199242\n",
      "37 0.020266864116525674\n",
      "38 0.019611713717705183\n",
      "39 0.018996229092438952\n",
      "40 0.01841696091977721\n",
      "41 0.017870845657917665\n",
      "42 0.017355153328339635\n",
      "43 0.01686744352978361\n",
      "44 0.01640552821118452\n",
      "45 0.01596744002505998\n",
      "46 0.015551405311541928\n",
      "47 0.015155820943263853\n",
      "48 0.014779234403899125\n",
      "49 0.01442032658673421\n",
      "50 0.014077896890655842\n",
      "51 0.013750850264206693\n",
      "52 0.01343818590767375\n",
      "53 0.013138987391405793\n",
      "54 0.01285241398796303\n",
      "55 0.012577693048037873\n",
      "56 0.012314113276732043\n",
      "57 0.012061018788822628\n",
      "58 0.01181780383995874\n",
      "59 0.011583908145998124\n",
      "60 0.011358812715461741\n",
      "61 0.011142036130807682\n",
      "62 0.01093313122325445\n",
      "63 0.010731682093515979\n",
      "64 0.010537301437274953\n",
      "65 0.010349628139720884\n",
      "66 0.01016832510816359\n",
      "67 0.009993077315739285\n",
      "68 0.00982359003266016\n",
      "69 0.009659587224407634\n",
      "70 0.009500810098811645\n",
      "71 0.00934701578615297\n",
      "72 0.009197976138323658\n",
      "73 0.009053476634730427\n",
      "74 0.008913315384056292\n",
      "75 0.008777302212244865\n",
      "76 0.008645257828160845\n",
      "77 0.008517013059332995\n",
      "78 0.00839240815102174\n",
      "79 0.008271292122586307\n",
      "80 0.008153522175772084\n",
      "81 0.008038963150107003\n",
      "82 0.007927487021098117\n",
      "83 0.007818972437363356\n",
      "84 0.007713304293226303\n",
      "85 0.007610373333650864\n",
      "86 0.007510075788702721\n",
      "87 0.007412313035000281\n",
      "88 0.007316991281862782\n",
      "89 0.007224021280084153\n",
      "90 0.007133318051455789\n",
      "91 0.007044800637337249\n",
      "92 0.006958391864732176\n",
      "93 0.006874018128465685\n",
      "94 0.006791609188188698\n",
      "95 0.006711097979046661\n",
      "96 0.006632420434954055\n",
      "97 0.006555515323508098\n",
      "98 0.006480324091659181\n",
      "99 0.00640679072133048\n"
     ]
    }
   ],
   "source": [
    "for k in range(100):\n",
    "    # forward pass\n",
    "    ypred = [n(x) for x in xs]\n",
    "    ys_val = [Value(y) for y in ys]\n",
    "    loss = sum((ygt - yout)**2 for ygt, yout in zip(ys_val, ypred))\n",
    "    for p in n.parameters():\n",
    "        p.grad = 0.0\n",
    "    loss.backward()\n",
    "    for p in n.parameters():\n",
    "        p.data -= 0.05 * p.grad\n",
    "    print(k, loss.data)"
   ]
  },
  {
   "cell_type": "code",
   "execution_count": 619,
   "id": "f53ffb76-6484-4ae8-a3d1-07c2ab7ab1b3",
   "metadata": {},
   "outputs": [
    {
     "data": {
      "text/plain": [
       "[Value(data=0.9767738688368606),\n",
       " Value(data=-0.9719592351004298),\n",
       " Value(data=-0.9481726892286209),\n",
       " Value(data=0.951061437346638)]"
      ]
     },
     "execution_count": 619,
     "metadata": {},
     "output_type": "execute_result"
    }
   ],
   "source": [
    "ypred"
   ]
  },
  {
   "cell_type": "code",
   "execution_count": 644,
   "id": "2d205364-0394-4883-ac54-28fc8f69ac37",
   "metadata": {},
   "outputs": [
    {
     "name": "stdout",
     "output_type": "stream",
     "text": [
      "[Value(data=-0.14155782667273156), Value(data=0.5417075828953636), Value(data=-0.4678616879087942)]\n"
     ]
    }
   ],
   "source": [
    "W1=n.layers[0].neurons[0].w[:]\n",
    "B=n.layers[0].neurons[0].b\n",
    "#i need to create a function to return this so that i can use these weights for testing untrained data and predict ypred"
   ]
  },
  {
   "cell_type": "code",
   "execution_count": null,
   "id": "d8f3d605-6206-47ce-afa2-0b0a93c77c67",
   "metadata": {},
   "outputs": [],
   "source": [
    "def softmax(logits):\n",
    "  counts = [logit.exp() for logit in logits]\n",
    "  denominator = sum(counts)\n",
    "  out = [c / denominator for c in counts]\n",
    "  return out\n",
    "\n",
    "# this is the negative log likelihood loss function, pervasive in classification\n",
    "logits = [Value(0.0), Value(3.0), Value(-2.0), Value(1.0)]\n",
    "probs = softmax(logits)\n",
    "loss = -probs[3].log() # dim 3 acts as the label for this input example\n",
    "loss.backward()\n",
    "print(loss.data)"
   ]
  }
 ],
 "metadata": {
  "kernelspec": {
   "display_name": "Python 3 (ipykernel)",
   "language": "python",
   "name": "python3"
  },
  "language_info": {
   "codemirror_mode": {
    "name": "ipython",
    "version": 3
   },
   "file_extension": ".py",
   "mimetype": "text/x-python",
   "name": "python",
   "nbconvert_exporter": "python",
   "pygments_lexer": "ipython3",
   "version": "3.12.3"
  }
 },
 "nbformat": 4,
 "nbformat_minor": 5
}
