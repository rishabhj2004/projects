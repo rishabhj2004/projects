{
 "cells": [
  {
   "cell_type": "code",
   "execution_count": 4,
   "id": "bdb5ad87-5a2d-4aa3-9a8c-73ec7160c71f",
   "metadata": {},
   "outputs": [],
   "source": [
    "import numpy as np"
   ]
  },
  {
   "cell_type": "code",
   "execution_count": 5,
   "id": "ea157768-17c9-4e38-a6f6-265a3258c68d",
   "metadata": {},
   "outputs": [],
   "source": [
    "class TicTacToe:\n",
    "    def __init__(self):\n",
    "        self.r_c=3\n",
    "        self.c_c=3\n",
    "        self.action_size=self.r_c*self.c_c\n",
    "\n",
    "    def startState(self):\n",
    "        return np.zeros((self.r_c,self.c_c))\n",
    "\n",
    "    def nextState(self,state,action,player):\n",
    "        row=action//self.c_c\n",
    "        col=action%self.c_c\n",
    "        state[row,col]=player\n",
    "        return state\n",
    "\n",
    "    def get_valid_moves(self,state):\n",
    "        return (state.reshape(-1)==0).astype(np.uint8)\n",
    "\n",
    "    def checkWin(self,state,action):\n",
    "        row=action//self.c_c\n",
    "        col=action%self.c_c\n",
    "        player=state[row,col]\n",
    "        return( np.sum(state[row,:])==player*self.c_c \n",
    "                or np.sum(state[:,col])==player*self.r_c \n",
    "                or np.sum(np.diag(state))==player*self.r_c \n",
    "                or np.sum(np.diag(np.flip(state,axis=0)))==player*self.r_c \n",
    "        )\n",
    "\n",
    "    def get_value_and_terminated(self, state, action):\n",
    "        if self.checkWin(state, action):\n",
    "            return 1, True\n",
    "        if np.sum(self.get_valid_moves(state)) == 0:\n",
    "            return 0, True\n",
    "        return 0, False\n",
    "    \n",
    "    def opp_player(self,player):\n",
    "        return -player"
   ]
  },
  {
   "cell_type": "code",
   "execution_count": 7,
   "id": "6df1f738-e6ac-407c-9397-42ee7eb0a299",
   "metadata": {},
   "outputs": [
    {
     "name": "stdout",
     "output_type": "stream",
     "text": [
      "[[0. 0. 0.]\n",
      " [0. 0. 0.]\n",
      " [0. 0. 0.]]\n",
      "Valid Moves:  [0, 1, 2, 3, 4, 5, 6, 7, 8]\n"
     ]
    },
    {
     "name": "stdin",
     "output_type": "stream",
     "text": [
      "Enter action:  1\n"
     ]
    },
    {
     "name": "stdout",
     "output_type": "stream",
     "text": [
      "[[0. 1. 0.]\n",
      " [0. 0. 0.]\n",
      " [0. 0. 0.]]\n",
      "Valid Moves:  [0, 2, 3, 4, 5, 6, 7, 8]\n"
     ]
    },
    {
     "name": "stdin",
     "output_type": "stream",
     "text": [
      "Enter action:  2\n"
     ]
    },
    {
     "name": "stdout",
     "output_type": "stream",
     "text": [
      "[[ 0.  1. -1.]\n",
      " [ 0.  0.  0.]\n",
      " [ 0.  0.  0.]]\n",
      "Valid Moves:  [0, 3, 4, 5, 6, 7, 8]\n"
     ]
    },
    {
     "name": "stdin",
     "output_type": "stream",
     "text": [
      "Enter action:  4\n"
     ]
    },
    {
     "name": "stdout",
     "output_type": "stream",
     "text": [
      "[[ 0.  1. -1.]\n",
      " [ 0.  1.  0.]\n",
      " [ 0.  0.  0.]]\n",
      "Valid Moves:  [0, 3, 5, 6, 7, 8]\n"
     ]
    },
    {
     "name": "stdin",
     "output_type": "stream",
     "text": [
      "Enter action:  5\n"
     ]
    },
    {
     "name": "stdout",
     "output_type": "stream",
     "text": [
      "[[ 0.  1. -1.]\n",
      " [ 0.  1. -1.]\n",
      " [ 0.  0.  0.]]\n",
      "Valid Moves:  [0, 3, 6, 7, 8]\n"
     ]
    },
    {
     "name": "stdin",
     "output_type": "stream",
     "text": [
      "Enter action:  7\n"
     ]
    },
    {
     "name": "stdout",
     "output_type": "stream",
     "text": [
      "1  won\n",
      "[[ 0.  1. -1.]\n",
      " [ 0.  1. -1.]\n",
      " [ 0.  1.  0.]]\n"
     ]
    }
   ],
   "source": [
    "tictactoe=TicTacToe()\n",
    "player=1\n",
    "state=tictactoe.startState()\n",
    "while True:\n",
    "    print(state)\n",
    "    validMoves=tictactoe.get_valid_moves(state)\n",
    "    print(\"Valid Moves: \",[i for i in range(tictactoe.action_size) if validMoves[i]==1])\n",
    "    action=int(input(\"Enter action: \"))\n",
    "    try:\n",
    "        if validMoves[action]==0:\n",
    "            print(\"action not valid\")\n",
    "            continue\n",
    "    except:\n",
    "        print(\"action not valid\")\n",
    "        continue\n",
    "    state=tictactoe.nextState(state,action,player)\n",
    "    value,isterminated=tictactoe.get_value_and_terminated(state,action)\n",
    "    if isterminated:\n",
    "        if value==1:\n",
    "            print(player,\" won\")\n",
    "        else:\n",
    "            print(\"draw\")\n",
    "        break\n",
    "    player=tictactoe.opp_player(player)\n",
    "\n",
    "print(state)\n",
    "    "
   ]
  },
  {
   "cell_type": "code",
   "execution_count": null,
   "id": "62e42b4a-a81c-48ed-a610-b63b3de0f05d",
   "metadata": {},
   "outputs": [],
   "source": []
  }
 ],
 "metadata": {
  "kernelspec": {
   "display_name": "Python 3 (ipykernel)",
   "language": "python",
   "name": "python3"
  },
  "language_info": {
   "codemirror_mode": {
    "name": "ipython",
    "version": 3
   },
   "file_extension": ".py",
   "mimetype": "text/x-python",
   "name": "python",
   "nbconvert_exporter": "python",
   "pygments_lexer": "ipython3",
   "version": "3.12.3"
  }
 },
 "nbformat": 4,
 "nbformat_minor": 5
}
