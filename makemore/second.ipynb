{
 "cells": [
  {
   "cell_type": "code",
   "execution_count": 71,
   "id": "46b064a1-9d8f-457c-b290-6a3597c5ddbd",
   "metadata": {},
   "outputs": [],
   "source": [
    "import numpy as np\n",
    "import torch\n",
    "import torch.nn.functional as F #for one hot encoding\n",
    "import pandas as pd\n",
    "from matplotlib import pyplot as plt\n",
    "import random"
   ]
  },
  {
   "cell_type": "code",
   "execution_count": 72,
   "id": "012081b7-e9bc-4173-8713-4ca0a313d6fc",
   "metadata": {},
   "outputs": [],
   "source": [
    "words=open(\"names.txt\",\"r\").read().splitlines()"
   ]
  },
  {
   "cell_type": "code",
   "execution_count": 4,
   "id": "e8ede64a-2aa3-4a51-b35f-0e3b387624d4",
   "metadata": {},
   "outputs": [
    {
     "data": {
      "text/plain": [
       "32033"
      ]
     },
     "execution_count": 4,
     "metadata": {},
     "output_type": "execute_result"
    }
   ],
   "source": [
    "len(words)"
   ]
  },
  {
   "cell_type": "code",
   "execution_count": 125,
   "id": "9839ac06-294c-4566-8a90-f4c9bc485f3e",
   "metadata": {},
   "outputs": [
    {
     "name": "stdout",
     "output_type": "stream",
     "text": [
      "27\n"
     ]
    }
   ],
   "source": [
    "chars = sorted(set(''.join(words)))  \n",
    "chars =['.'] + chars     \n",
    "stoi = {ch: i for i, ch in enumerate(chars)}\n",
    "itos = {i: ch for ch, i in stoi.items()}"
   ]
  },
  {
   "cell_type": "code",
   "execution_count": 6,
   "id": "5458b7cd-f758-43e1-809d-f22e942e5b1d",
   "metadata": {},
   "outputs": [],
   "source": [
    "block_size=3\n",
    "X=[]\n",
    "Y=[]\n",
    "for w in words:\n",
    "    #print(w)\n",
    "    context=[0]*block_size\n",
    "    for ch in w +'.':\n",
    "        ix=stoi[ch]\n",
    "        Y.append(ix)\n",
    "        X.append(context)\n",
    "        #print(''.join(itos[i] for i in context))\n",
    "        context=context[1:]+[ix]\n",
    "X=torch.tensor(X)\n",
    "Y=torch.tensor(Y)"
   ]
  },
  {
   "cell_type": "code",
   "execution_count": 7,
   "id": "fc9d3855-7efc-48f1-8c2c-8b21ed31ad5d",
   "metadata": {},
   "outputs": [
    {
     "name": "stdout",
     "output_type": "stream",
     "text": [
      "tensor([0, 0, 5])\n",
      "tensor(13)\n",
      "torch.Size([228146, 3])\n",
      "torch.Size([228146])\n"
     ]
    }
   ],
   "source": [
    "print(X[1])\n",
    "print(Y[1])\n",
    "print(X.shape)\n",
    "print(Y.shape)"
   ]
  },
  {
   "cell_type": "code",
   "execution_count": 19,
   "id": "b2a24281-b96d-4895-9560-f87cce31a918",
   "metadata": {},
   "outputs": [
    {
     "data": {
      "text/plain": [
       "torch.Size([228146, 3, 2])"
      ]
     },
     "execution_count": 19,
     "metadata": {},
     "output_type": "execute_result"
    }
   ],
   "source": [
    "# now we need to embed X for the neural network\n",
    "C=torch.randn(27,2)\n",
    "emb=C[X] #yeah we can just do this with pytorch\n",
    "emb.shape"
   ]
  },
  {
   "cell_type": "code",
   "execution_count": 20,
   "id": "70422323-9b4a-493d-b8e8-dbf494e316dc",
   "metadata": {},
   "outputs": [],
   "source": [
    "W1=torch.randn(6,100) #100 neurons for the first hidden layers\n",
    "B1=torch.randn(100)"
   ]
  },
  {
   "cell_type": "code",
   "execution_count": 21,
   "id": "75765d11-aa6d-479d-969a-c1599deaa668",
   "metadata": {},
   "outputs": [],
   "source": [
    "h=torch.tanh(emb.view(-1,6) @ W1 + B1)"
   ]
  },
  {
   "cell_type": "code",
   "execution_count": 23,
   "id": "bc923e44-c5de-4ab6-8469-b22b32e34d3c",
   "metadata": {},
   "outputs": [
    {
     "data": {
      "text/plain": [
       "torch.Size([228146, 100])"
      ]
     },
     "execution_count": 23,
     "metadata": {},
     "output_type": "execute_result"
    }
   ],
   "source": [
    "h.shape"
   ]
  },
  {
   "cell_type": "code",
   "execution_count": 26,
   "id": "0dcacc82-8892-410c-afe6-ce63dd545d6f",
   "metadata": {},
   "outputs": [],
   "source": [
    "W2=torch.randn(100,27)\n",
    "B2=torch.randn(27)"
   ]
  },
  {
   "cell_type": "code",
   "execution_count": 43,
   "id": "43b4104f-4dab-4927-9a18-f1be34dc0325",
   "metadata": {},
   "outputs": [
    {
     "data": {
      "text/plain": [
       "tensor(15.1216)"
      ]
     },
     "execution_count": 43,
     "metadata": {},
     "output_type": "execute_result"
    }
   ],
   "source": [
    "logits=h @ W2 +B2\n",
    "'''\n",
    "count=logits.exp()\n",
    "probs=count/count.sum(1,keepdim=True)\n",
    "loss=-probs[torch.arange(len(Y)),Y].log().mean()\n",
    "'''\n",
    "loss=F.cross_entropy(logits,Y) "
   ]
  },
  {
   "cell_type": "code",
   "execution_count": 262,
   "id": "25b68cda-a2fd-42e5-936f-06064b018fa7",
   "metadata": {},
   "outputs": [],
   "source": [
    "# creating training testing and validation dataset\n",
    "def buildDataset(words):\n",
    "    block_size=3\n",
    "    X=[]\n",
    "    Y=[]\n",
    "    for w in words:\n",
    "        #print(w)\n",
    "        context=[0]*block_size\n",
    "        for ch in w +'.':\n",
    "            ix=stoi[ch]\n",
    "            Y.append(ix)\n",
    "            X.append(context)\n",
    "            #print(''.join(itos[i] for i in context))\n",
    "            context=context[1:]+[ix]\n",
    "    X=torch.tensor(X)\n",
    "    Y=torch.tensor(Y)\n",
    "    return X,Y\n",
    "\n",
    "random.shuffle(words)\n",
    "n=int(0.8*len(words))\n",
    "m=int(0.9*len(words))\n",
    "Xtrain,Ytrain=buildDataset(words[:n])\n",
    "XVal,YVal=buildDataset(words[n:m])\n",
    "Xtest,Ytest=buildDataset(words[m:])"
   ]
  },
  {
   "cell_type": "code",
   "execution_count": 263,
   "id": "51f6b3a3-51ab-4af5-9a8f-11e198e996cf",
   "metadata": {},
   "outputs": [],
   "source": [
    "n_emb=10 #dimansionality of each character\n",
    "n_n=300 #number of neurons\n",
    "C=torch.randn(len(chars),n_emb) \n",
    "W1=torch.randn(n_emb*block_size,n_n) * (5/3) / ((n_emb*block_size)**0.5) #to prevent plateau region of tanh for h\n",
    "#the above formula is given in the pytorch documentation for standard deviation of tanh \n",
    "B1=torch.randn(n_n) * 0.01\n",
    "W2 = torch.randn(n_n, len(chars)) / np.sqrt(n_n)\n",
    "B2=torch.randn(len(chars)) * 0\n",
    "\n",
    "bngain=torch.ones(1,n_n)\n",
    "bnbais=torch.zeros(1,n_n) #batch normalization parameters \n",
    "bnmean_running = torch.zeros(1, n_n)\n",
    "bnstd_running = torch.ones(1, n_n)\n",
    "\n",
    "parameters=[C,W1,W2,B1,B2,bngain,bnbais]"
   ]
  },
  {
   "cell_type": "code",
   "execution_count": 264,
   "id": "e18cfbf7-b70e-438a-821b-72387647281a",
   "metadata": {},
   "outputs": [],
   "source": [
    "for p in parameters:\n",
    "    p.requires_grad=True"
   ]
  },
  {
   "cell_type": "code",
   "execution_count": 265,
   "id": "28167e3d-71e5-4235-a6c1-6db70f664d8b",
   "metadata": {},
   "outputs": [],
   "source": [
    "stepi=[]\n",
    "lossi=[]\n",
    "lr=0.1\n",
    "batch_size=60"
   ]
  },
  {
   "cell_type": "code",
   "execution_count": 266,
   "id": "8d4b8c41-0cef-419b-b387-993a732c7a81",
   "metadata": {},
   "outputs": [
    {
     "name": "stdout",
     "output_type": "stream",
     "text": [
      "training loss:  2.1476638317108154\n"
     ]
    }
   ],
   "source": [
    "for i in range(200000): \n",
    "    #minibatch\n",
    "    ix=torch.randint(0,Xtrain.shape[0],(batch_size,)) \n",
    "    #forward pass\n",
    "    emb=C[Xtrain[ix]]\n",
    "    embcat=emb.view(emb.shape[0],-1)\n",
    "    hpreact = embcat @ W1 + B1\n",
    "    #batch normalization\n",
    "    batch_mean = hpreact.mean(0, keepdim=True)\n",
    "    batch_var = hpreact.var(0, unbiased=False, keepdim=True)\n",
    "    hpreact = bngain * (hpreact - batch_mean) / torch.sqrt(batch_var + 1e-5) + bnbais\n",
    "\n",
    "    with torch.no_grad():\n",
    "        bnmean_running = 0.99 * bnmean_running + 0.01 * batch_mean\n",
    "        bnstd_running = 0.99 * bnstd_running + 0.01 * batch_var\n",
    "        \n",
    "    h=torch.tanh(hpreact)\n",
    "    logits=h @ W2 +B2\n",
    "    loss=F.cross_entropy(logits,Ytrain[ix])\n",
    "    #backward pass\n",
    "    for p in parameters:\n",
    "        p.grad=None\n",
    "    loss.backward()\n",
    "    if i>150000: #step decay learning rate\n",
    "        lr=0.01\n",
    "    for p in parameters:\n",
    "        p.data-=lr*p.grad\n",
    "    stepi.append(i)\n",
    "    lossi.append(loss.item())\n",
    "print(\"training loss: \",loss.item())"
   ]
  },
  {
   "cell_type": "code",
   "execution_count": 267,
   "id": "47bf6b54-da01-4e7e-bbab-2942926bd6d6",
   "metadata": {},
   "outputs": [
    {
     "data": {
      "text/plain": [
       "[<matplotlib.lines.Line2D at 0x700760115760>]"
      ]
     },
     "execution_count": 267,
     "metadata": {},
     "output_type": "execute_result"
    },
    {
     "data": {
      "image/png": "[encoded data removed]",
      "text/plain": [
       "<Figure size 640x480 with 1 Axes>"
      ]
     },
     "metadata": {},
     "output_type": "display_data"
    }
   ],
   "source": [
    "plt.plot(stepi,lossi)"
   ]
  },
  {
   "cell_type": "code",
   "execution_count": 268,
   "id": "3cd12065-fce9-4123-8c0e-94a308029bfb",
   "metadata": {},
   "outputs": [
    {
     "data": {
      "text/plain": [
       "(array([1539.,  663.,  443.,  380.,  329.,  287.,  261.,  246.,  332.,\n",
       "         247.,  226.,  238.,  182.,  249.,  187.,  255.,  320.,  219.,\n",
       "         261.,  261.,  302.,  334.,  438.,  337.,  370.,  441.,  442.,\n",
       "         374.,  441.,  258.,  286.,  306.,  290.,  281.,  246.,  225.,\n",
       "         191.,  199.,  194.,  215.,  238.,  271.,  273.,  291.,  323.,\n",
       "         326.,  375.,  469.,  645., 1494.]),\n",
       " array([-9.99997914e-01, -9.59998087e-01, -9.19998260e-01, -8.79998432e-01,\n",
       "        -8.39998605e-01, -7.99998778e-01, -7.59998951e-01, -7.19999124e-01,\n",
       "        -6.79999297e-01, -6.39999470e-01, -5.99999642e-01, -5.59999815e-01,\n",
       "        -5.19999988e-01, -4.80000161e-01, -4.40000334e-01, -4.00000507e-01,\n",
       "        -3.60000679e-01, -3.20000852e-01, -2.80001025e-01, -2.40001198e-01,\n",
       "        -2.00001371e-01, -1.60001544e-01, -1.20001717e-01, -8.00018895e-02,\n",
       "        -4.00020623e-02, -2.23517418e-06,  3.99975920e-02,  7.99974191e-02,\n",
       "         1.19997246e-01,  1.59997073e-01,  1.99996901e-01,  2.39996728e-01,\n",
       "         2.79996555e-01,  3.19996382e-01,  3.59996209e-01,  3.99996036e-01,\n",
       "         4.39995863e-01,  4.79995691e-01,  5.19995518e-01,  5.59995345e-01,\n",
       "         5.99995172e-01,  6.39994999e-01,  6.79994826e-01,  7.19994653e-01,\n",
       "         7.59994481e-01,  7.99994308e-01,  8.39994135e-01,  8.79993962e-01,\n",
       "         9.19993789e-01,  9.59993616e-01,  9.99993443e-01]),\n",
       " <BarContainer object of 50 artists>)"
      ]
     },
     "execution_count": 268,
     "metadata": {},
     "output_type": "execute_result"
    },
    {
     "data": {
      "image/png": "[encoded data removed]",
      "text/plain": [
       "<Figure size 640x480 with 1 Axes>"
      ]
     },
     "metadata": {},
     "output_type": "display_data"
    }
   ],
   "source": [
    "plt.hist(h.view(-1).tolist(),50)"
   ]
  },
  {
   "cell_type": "code",
   "execution_count": 269,
   "id": "4941c982-0280-4284-9a2d-8e12786b6d09",
   "metadata": {},
   "outputs": [
    {
     "name": "stdout",
     "output_type": "stream",
     "text": [
      "Validation loss: 2.0840117931365967\n"
     ]
    }
   ],
   "source": [
    "# validation\n",
    "with torch.no_grad():\n",
    "    emb = C[XVal]\n",
    "    embcat = emb.view(emb.shape[0], -1)\n",
    "    hpreact = embcat @ W1 + B1\n",
    "    hpreact = bngain * (hpreact - bnmean_running) / torch.sqrt(bnstd_running + 1e-5) + bnbais\n",
    "    h = torch.tanh(hpreact)\n",
    "    logits = h @ W2 + B2\n",
    "    val_loss = F.cross_entropy(logits, YVal)\n",
    "print(\"Validation loss:\", val_loss.item())"
   ]
  },
  {
   "cell_type": "code",
   "execution_count": 270,
   "id": "f91b78d5-9fb6-4d46-8c89-5a0a63444554",
   "metadata": {},
   "outputs": [
    {
     "name": "stdout",
     "output_type": "stream",
     "text": [
      "dai.\n",
      "jaion.\n",
      "sara.\n",
      "emoni.\n",
      "ous.\n",
      "luky.\n",
      "eldoda.\n",
      "ansh.\n",
      "khali.\n",
      "yaan.\n",
      "joanna.\n",
      "aven.\n",
      "anah.\n",
      "bulla.\n",
      "roa.\n",
      "ashuabeth.\n",
      "mia.\n",
      "jeriyah.\n",
      "magabray.\n",
      "marven.\n"
     ]
    }
   ],
   "source": [
    "#sampling\n",
    "with torch.no_grad():\n",
    "    for _ in range(20):\n",
    "        out = []\n",
    "        Context = [0] * block_size\n",
    "        while True:\n",
    "            emb = C[torch.tensor([Context])]\n",
    "            hpreact = emb.view(1, -1) @ W1 + B1\n",
    "            hpreact = bngain * (hpreact - bnmean_running) / torch.sqrt(bnstd_running + 1e-5) + bnbais\n",
    "            h = torch.tanh(hpreact)\n",
    "            logits = h @ W2 + B2\n",
    "            probs = F.softmax(logits, dim=1)\n",
    "            ix = torch.multinomial(probs, num_samples=1).item()\n",
    "            out.append(ix)\n",
    "            Context = Context[1:] + [ix]\n",
    "            if ix == 0 or len(out) > 30:\n",
    "                break\n",
    "        print(\"\".join(itos[i] for i in out))"
   ]
  },
  {
   "cell_type": "code",
   "execution_count": null,
   "id": "b4fb9a67-fdbe-4dae-b818-1f10392c081c",
   "metadata": {},
   "outputs": [],
   "source": []
  }
 ],
 "metadata": {
  "kernelspec": {
   "display_name": "Python 3 (ipykernel)",
   "language": "python",
   "name": "python3"
  },
  "language_info": {
   "codemirror_mode": {
    "name": "ipython",
    "version": 3
   },
   "file_extension": ".py",
   "mimetype": "text/x-python",
   "name": "python",
   "nbconvert_exporter": "python",
   "pygments_lexer": "ipython3",
   "version": "3.12.3"
  }
 },
 "nbformat": 4,
 "nbformat_minor": 5
}
